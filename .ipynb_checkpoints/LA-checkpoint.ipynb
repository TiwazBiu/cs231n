{
 "cells": [
  {
   "cell_type": "code",
   "execution_count": 97,
   "metadata": {
    "ExecuteTime": {
     "end_time": "2018-01-17T07:24:20.218864Z",
     "start_time": "2018-01-17T07:24:20.212779Z"
    }
   },
   "outputs": [],
   "source": [
    "import numpy as np\n",
    "import sympy as sp\n",
    "from sympy import Matrix\n",
    "import matplotlib.pyplot as plt"
   ]
  },
  {
   "cell_type": "code",
   "execution_count": 102,
   "metadata": {
    "ExecuteTime": {
     "end_time": "2018-01-17T07:29:31.081003Z",
     "start_time": "2018-01-17T07:29:31.063943Z"
    }
   },
   "outputs": [],
   "source": [
    "v = sp.Matrix([0,2,4,6,8,10])\n",
    "f = sp.Matrix([0, 2.90, 14.8, 39.6, 74.3, 119])\n",
    "# use a polynomial function of degree 5\n",
    "vp = np.array(v)\n",
    "am = sp.ones(6,1)\n",
    "for i in range(1,6):\n",
    "    am = am.col_insert(i,Matrix(vp**i))\n",
    "am = am.col_insert(6,f)"
   ]
  },
  {
   "cell_type": "code",
   "execution_count": 99,
   "metadata": {
    "ExecuteTime": {
     "end_time": "2018-01-17T07:24:26.237138Z",
     "start_time": "2018-01-17T07:24:26.224995Z"
    }
   },
   "outputs": [
    {
     "data": {
      "text/plain": [
       "array([[0],\n",
       "       [1.71250000000001],\n",
       "       [-1.19479166666667],\n",
       "       [0.661458333333335],\n",
       "       [-0.0700520833333336],\n",
       "       [0.00260416666666668]], dtype=object)"
      ]
     },
     "execution_count": 99,
     "metadata": {},
     "output_type": "execute_result"
    }
   ],
   "source": [
    "air_rref = am.rref()[0]\n",
    "params = np.array(air_rref.col(6))\n",
    "params"
   ]
  },
  {
   "cell_type": "code",
   "execution_count": 103,
   "metadata": {
    "ExecuteTime": {
     "end_time": "2018-01-17T07:29:34.274853Z",
     "start_time": "2018-01-17T07:29:34.264801Z"
    }
   },
   "outputs": [],
   "source": [
    "def air_force(v,params):\n",
    "    length = len(params)\n",
    "    res = 0\n",
    "    for i in range(length):\n",
    "        res += float(params[i]) * v**i\n",
    "    return res"
   ]
  },
  {
   "cell_type": "code",
   "execution_count": 101,
   "metadata": {
    "ExecuteTime": {
     "end_time": "2018-01-17T07:24:34.118647Z",
     "start_time": "2018-01-17T07:24:34.042455Z"
    }
   },
   "outputs": [
    {
     "data": {
      "text/plain": [
       "64.83837890625"
      ]
     },
     "execution_count": 101,
     "metadata": {},
     "output_type": "execute_result"
    }
   ],
   "source": [
    "air_force(7.5,params)"
   ]
  },
  {
   "cell_type": "code",
   "execution_count": 95,
   "metadata": {
    "ExecuteTime": {
     "end_time": "2018-01-17T07:23:40.686912Z",
     "start_time": "2018-01-17T07:23:40.667678Z"
    }
   },
   "outputs": [
    {
     "data": {
      "text/plain": [
       "Matrix([\n",
       "[1, 0, 0, 0, 0],\n",
       "[0, 1, 0, 0, 0],\n",
       "[0, 0, 1, 0, 0],\n",
       "[0, 0, 0, 1, 0],\n",
       "[0, 0, 0, 0, 1],\n",
       "[0, 0, 0, 0, 0]])"
      ]
     },
     "execution_count": 95,
     "metadata": {},
     "output_type": "execute_result"
    }
   ],
   "source": [
    "#use polynomial function of degree 3 won't get a solution\n",
    "am = sp.ones(6,1)\n",
    "for i in range(1,4):\n",
    "    am = am.col_insert(i,Matrix(vp**i))\n",
    "am = am.col_insert(4,f)\n",
    "air_rref = am.rref()[0]\n",
    "air_rref"
   ]
  },
  {
   "cell_type": "code",
   "execution_count": 116,
   "metadata": {
    "ExecuteTime": {
     "end_time": "2018-01-17T07:35:11.066079Z",
     "start_time": "2018-01-17T07:35:10.833542Z"
    }
   },
   "outputs": [
    {
     "data": {
      "image/png": "[encoded data removed]",
      "text/plain": [
       "<matplotlib.figure.Figure at 0x10d033dd8>"
      ]
     },
     "metadata": {},
     "output_type": "display_data"
    }
   ],
   "source": [
    "# the polynomial function of degree 5\n",
    "x = np.arange(0,20,0.1)\n",
    "y = air_force(x,params)\n",
    "plt.plot(x,y,'r')\n",
    "\n",
    "# orginal data\n",
    "vp = np.array(v)\n",
    "fp = np.array(f)\n",
    "plt.plot(vp,fp,'.b')\n",
    "\n",
    "plt.show()\n"
   ]
  }
 ],
 "metadata": {
  "kernelspec": {
   "display_name": "Python 3",
   "language": "python",
   "name": "python3"
  },
  "language_info": {
   "codemirror_mode": {
    "name": "ipython",
    "version": 3
   },
   "file_extension": ".py",
   "mimetype": "text/x-python",
   "name": "python",
   "nbconvert_exporter": "python",
   "pygments_lexer": "ipython3",
   "version": "3.6.0"
  },
  "toc": {
   "nav_menu": {},
   "number_sections": true,
   "sideBar": true,
   "skip_h1_title": false,
   "title_cell": "Table of Contents",
   "title_sidebar": "Contents",
   "toc_cell": false,
   "toc_position": {},
   "toc_section_display": true,
   "toc_window_display": false
  }
 },
 "nbformat": 4,
 "nbformat_minor": 2
}
