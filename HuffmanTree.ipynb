{
 "cells": [
  {
   "cell_type": "code",
   "execution_count": 249,
   "metadata": {
    "ExecuteTime": {
     "end_time": "2018-01-18T06:53:04.471437Z",
     "start_time": "2018-01-18T06:53:04.456015Z"
    }
   },
   "outputs": [],
   "source": [
    "from queue import PriorityQueue\n",
    "class StablePriorityQueue(PriorityQueue):\n",
    "    def __init__(self):\n",
    "        PriorityQueue.__init__(self)\n",
    "        self.counter = 0\n",
    "    def put(self,item,priority=0):\n",
    "        PriorityQueue.put(self, (priority,self.counter,item))\n",
    "        self.counter += 1\n",
    "    def get(self, *args, **kwargs):\n",
    "        _, _, item = PriorityQueue.get(self, *args, **kwargs)\n",
    "        return item\n",
    "    \n"
   ]
  },
  {
   "cell_type": "code",
   "execution_count": 262,
   "metadata": {
    "ExecuteTime": {
     "end_time": "2018-01-18T06:58:23.884916Z",
     "start_time": "2018-01-18T06:58:23.762732Z"
    }
   },
   "outputs": [
    {
     "name": "stdout",
     "output_type": "stream",
     "text": [
      "d   0.06 0\n",
      "f   0.03 11\n",
      "e   0.03 10\n"
     ]
    }
   ],
   "source": [
    "class HuffmanNode(object):\n",
    "    def __init__(self, left=None, right=None, root=None):\n",
    "        self.left=left\n",
    "        self.right=right\n",
    "        self.root=root\n",
    "    def children(self):\n",
    "        return (self.left,self.right)\n",
    "\n",
    "def CreateHuffmanTree(frequencies):\n",
    "    \"\"\"\"\n",
    "    inputs:\n",
    "    - frequencies: a list of tuple, the first element of tuple should be probability\n",
    "    Returns:\n",
    "    - a HuffmanTree\n",
    "    \"\"\"\n",
    "    \n",
    "    p = StablePriorityQueue()\n",
    "    for value in frequencies:\n",
    "        p.put(value,priority=value[0])\n",
    "    while p.qsize() > 1:\n",
    "        l, r = p.get(), p.get()\n",
    "        node = HuffmanNode(l,r)\n",
    "        value = (l[0]+r[0],node)\n",
    "        p.put(value,priority=value[0])\n",
    "    return p.get()\n",
    "\n",
    "\n",
    "# freq = [\n",
    "#     (8.167, 'a'), (1.492, 'b'), (2.782, 'c'), (4.253, 'd'),\n",
    "#     (12.702, 'e'),(2.228, 'f'), (2.015, 'g'), (6.094, 'h'),\n",
    "#     (6.966, 'i'), (0.153, 'j'), (0.747, 'k'), (4.025, 'l'),\n",
    "#     (2.406, 'm'), (6.749, 'n'), (7.507, 'o'), (1.929, 'p'), \n",
    "#     (0.095, 'q'), (5.987, 'r'), (6.327, 's'), (9.056, 't'), \n",
    "#     (2.758, 'u'), (1.037, 'v'), (2.365, 'w'), (0.150, 'x'),\n",
    "#     (1.974, 'y'), (0.074, 'z') ]\n",
    "\n",
    "freq = [ (200/3101, 'd'), (100/3101, 'e'), (100/3101, 'f') ]\n",
    "huffmantree = CreateHuffmanTree(freq)\n",
    "\n",
    "def walk_tree(node,prefix=\"\",code={}):\n",
    "    if isinstance(node[1].left[1], HuffmanNode):\n",
    "        walk_tree(node[1].left,prefix+\"0\", code)\n",
    "    else:\n",
    "        code[node[1].left[1]]=prefix+\"0\"\n",
    "    if isinstance(node[1].right[1],HuffmanNode):\n",
    "        walk_tree(node[1].right,prefix+\"1\", code)\n",
    "    else:\n",
    "        code[node[1].right[1]]=prefix+\"1\"\n",
    "    return code\n",
    "\n",
    "code = walk_tree(huffmantree)\n",
    "for i in sorted(freq, reverse=True):\n",
    "    print(i[1], '{:6.2f}'.format(i[0]), code[i[1]])"
   ]
  },
  {
   "cell_type": "code",
   "execution_count": 263,
   "metadata": {
    "ExecuteTime": {
     "end_time": "2018-01-18T06:58:39.052291Z",
     "start_time": "2018-01-18T06:58:39.012072Z"
    }
   },
   "outputs": [],
   "source": [
    "import itertools\n",
    "pq = []                         # list of entries arranged in a heap\n",
    "entry_finder = {}               # mapping of tasks to entries\n",
    "REMOVED = '<removed-task>'      # placeholder for a removed task\n",
    "counter = itertools.count()     # unique sequence count\n",
    "\n",
    "def add_task(task, priority=0):\n",
    "    'Add a new task or update the priority of an existing task'\n",
    "    if task in entry_finder:\n",
    "        remove_task(task)\n",
    "    count = next(counter)\n",
    "    entry = [priority, count, task]\n",
    "    entry_finder[task] = entry\n",
    "    heappush(pq, entry)\n",
    "\n",
    "def remove_task(task):\n",
    "    'Mark an existing task as REMOVED.  Raise KeyError if not found.'\n",
    "    entry = entry_finder.pop(task)\n",
    "    entry[-1] = REMOVED\n",
    "\n",
    "def pop_task():\n",
    "    'Remove and return the lowest priority task. Raise KeyError if empty.'\n",
    "    while pq:\n",
    "        priority, count, task = heappop(pq)\n",
    "        if task is not REMOVED:\n",
    "            del entry_finder[task]\n",
    "            return task\n",
    "    raise KeyError('pop from an empty priority queue')\n",
    "    \n"
   ]
  },
  {
   "cell_type": "code",
   "execution_count": 370,
   "metadata": {
    "ExecuteTime": {
     "end_time": "2018-01-18T09:47:18.544477Z",
     "start_time": "2018-01-18T09:47:18.465546Z"
    }
   },
   "outputs": [
    {
     "name": "stdout",
     "output_type": "stream",
     "text": [
      "None\n"
     ]
    },
    {
     "data": {
      "text/plain": [
       "[('A', 'A', 'A'),\n",
       " ('A', 'A', 'B'),\n",
       " ('A', 'B', 'A'),\n",
       " ('A', 'B', 'B'),\n",
       " ('B', 'A', 'A'),\n",
       " ('B', 'A', 'B'),\n",
       " ('B', 'B', 'A'),\n",
       " ('B', 'B', 'B')]"
      ]
     },
     "execution_count": 370,
     "metadata": {},
     "output_type": "execute_result"
    }
   ],
   "source": [
    "import operator\n",
    "from functools import reduce\n",
    "import itertools as it\n",
    "\n",
    "a = (1/4,'A')\n",
    "b = (3/4,'B')\n",
    "\n",
    "def C(n,k):\n",
    "    return reduce(operator.mul,range(n-k+1,n+1))/reduce(operator.mul,range(1,k+1))\n",
    "\n",
    "def label_count(container,label):\n",
    "    count = 0\n",
    "    for i in list(container):\n",
    "        if label == i:\n",
    "            count += 1\n",
    "    return count\n",
    "\n",
    "a = (1/4,'A')\n",
    "b = (3/4,'B')\n",
    "def n_extention(a1,a2,n):\n",
    "    freqs = []\n",
    "    s = a1[1]+a2[1]\n",
    "    labels = list(it.product(s,repeat=n))\n",
    "    freq_i = {}\n",
    "    for label in labels:\n",
    "        i = label_count(label, a1[1])\n",
    "        if not freq_i.get(i): \n",
    "            freq = a1[0]**i * a2[0]**(n-i)\n",
    "            freq_i[i] = freq\n",
    "        else: freq = freq_i.get(i)\n",
    "        freqs.append((freq,label))\n",
    "    return freqs\n",
    "\n",
    "d = {3:'xdvd'}\n",
    "print(d.get(4))\n",
    "list(it.product('AB',repeat=3))"
   ]
  },
  {
   "cell_type": "code",
   "execution_count": 379,
   "metadata": {
    "ExecuteTime": {
     "end_time": "2018-01-18T10:01:42.175345Z",
     "start_time": "2018-01-18T10:01:42.100323Z"
    }
   },
   "outputs": [
    {
     "name": "stdout",
     "output_type": "stream",
     "text": [
      "('A', 'A', 'A') 0.4219 0\n",
      "('B', 'A', 'A') 0.1406 110\n",
      "('A', 'B', 'A') 0.1406 101\n",
      "('A', 'A', 'B') 0.1406 100\n",
      "('B', 'B', 'A') 0.0469 11111\n",
      "('B', 'A', 'B') 0.0469 11110\n",
      "('A', 'B', 'B') 0.0469 11101\n",
      "('B', 'B', 'B') 0.0156 11100\n",
      "2.46875\n",
      "2.43383437338\n"
     ]
    }
   ],
   "source": [
    "import numpy as np\n",
    "\n",
    "a = (3/4,'A')\n",
    "b = (1/4,'B')\n",
    "\n",
    "n = 3\n",
    "freqs = n_extention(a, b, n)\n",
    "huff = CreateHuffmanTree(freqs)\n",
    "code = walk_tree(huff)\n",
    "\n",
    "codes_freq = {}\n",
    "for i in sorted(freqs, reverse=True):\n",
    "    print(i[1], '{:6.4f}'.format(i[0]), code[i[1]])\n",
    "    codes_freq[code[i[1]]] = i[0]\n",
    "\n",
    "freq_only = list(map(lambda freq: freq[0],freqs))\n",
    "freq_only = np.array(freq_only)\n",
    "\n",
    "def entropy(freqs):\n",
    "    return np.sum(freqs*np.log2(1/freqs))\n",
    "\n",
    "en = entropy(freq_only)\n",
    "\n",
    "def average_length(codes_freq):\n",
    "    res = 0\n",
    "    su = 0\n",
    "    for code,freq in codes_freq.items():\n",
    "        res += len(code)*freq\n",
    "        su += freq\n",
    "    assert np.abs(su-1) < 1e-6\n",
    "    return res\n",
    "\n",
    "avg = average_length(codes_freq)\n",
    "print(avg)\n",
    "print(en)"
   ]
  },
  {
   "cell_type": "code",
   "execution_count": 385,
   "metadata": {
    "ExecuteTime": {
     "end_time": "2018-01-18T10:06:25.318374Z",
     "start_time": "2018-01-18T10:06:24.408239Z"
    }
   },
   "outputs": [],
   "source": [
    "etas = {}\n",
    "entropy_x0 = 0.811278124459\n",
    "for n in range(1,15):\n",
    "    freqs = n_extention(a, b, n)\n",
    "    huff = CreateHuffmanTree(freqs)\n",
    "    code = walk_tree(huff,code={})\n",
    "    freq_only = np.array(list(map(lambda freq: freq[0],freqs)))\n",
    "    codes_freq ={}\n",
    "    for i in sorted(freqs, reverse=True):\n",
    "        codes_freq[code[i[1]]] = i[0]\n",
    "\n",
    "    avg_k = average_length(codes_freq)\n",
    "    entro = entropy(freq_only)\n",
    "#     eta = n/avg_k*entropy_x0\n",
    "    \n",
    "#     r= avg_k/n\n",
    "    eta = entro/avg_k\n",
    "    etas[n] = eta"
   ]
  },
  {
   "cell_type": "code",
   "execution_count": 386,
   "metadata": {
    "ExecuteTime": {
     "end_time": "2018-01-18T10:06:27.884645Z",
     "start_time": "2018-01-18T10:06:27.665580Z"
    },
    "scrolled": false
   },
   "outputs": [
    {
     "name": "stdout",
     "output_type": "stream",
     "text": [
      "[1, 2, 3, 4, 5, 6, 7, 8, 9, 10, 11, 12, 13, 14]\n",
      "[0.81127812445913283, 0.96151481417378715, 0.98585696136806011, 0.99134701604552755, 0.99205731961565802, 0.99095284228169223, 0.99316708870211579, 0.99450863078203444, 0.99551469021653471, 0.99642148362738159, 0.99698344100440983, 0.99725532280117446, 0.9972524038647258, 0.99734625171289104]\n"
     ]
    },
    {
     "data": {
      "image/png": "[encoded data removed]",
      "text/plain": [
       "<matplotlib.figure.Figure at 0x1100f8dd8>"
      ]
     },
     "metadata": {},
     "output_type": "display_data"
    }
   ],
   "source": [
    "from matplotlib import pyplot as plt\n",
    "x = []\n",
    "y = []\n",
    "for n,eta in etas.items():\n",
    "    x.append(n)\n",
    "    y.append(eta)\n",
    "\n",
    "print(x)\n",
    "print(y)\n",
    "plt.plot(x,y)\n",
    "plt.show()"
   ]
  },
  {
   "cell_type": "code",
   "execution_count": 310,
   "metadata": {
    "ExecuteTime": {
     "end_time": "2018-01-18T07:53:17.981874Z",
     "start_time": "2018-01-18T07:53:17.967813Z"
    }
   },
   "outputs": [
    {
     "name": "stdout",
     "output_type": "stream",
     "text": [
      "a2   0.25 10\n",
      "a1   0.25 01\n",
      "a3   0.20 00\n",
      "a4   0.15 110\n",
      "a5   0.10 1111\n",
      "a6   0.05 1110\n"
     ]
    }
   ],
   "source": [
    "freq = [(0.25,'a1'),(0.25,'a2'),(0.2,'a3'),(0.15,'a4'),(0.10,'a5'),(0.05,'a6')]\n",
    "huff = CreateHuffmanTree(freq)\n",
    "codes = walk_tree(huff)\n",
    "for i in sorted(freq, reverse=True):\n",
    "    print(i[1], '{:6.2f}'.format(i[0]), codes[i[1]])"
   ]
  },
  {
   "cell_type": "code",
   "execution_count": null,
   "metadata": {},
   "outputs": [],
   "source": []
  }
 ],
 "metadata": {
  "kernelspec": {
   "display_name": "Python 3",
   "language": "python",
   "name": "python3"
  },
  "language_info": {
   "codemirror_mode": {
    "name": "ipython",
    "version": 3
   },
   "file_extension": ".py",
   "mimetype": "text/x-python",
   "name": "python",
   "nbconvert_exporter": "python",
   "pygments_lexer": "ipython3",
   "version": "3.6.0"
  },
  "toc": {
   "nav_menu": {},
   "number_sections": true,
   "sideBar": true,
   "skip_h1_title": false,
   "title_cell": "Table of Contents",
   "title_sidebar": "Contents",
   "toc_cell": false,
   "toc_position": {},
   "toc_section_display": true,
   "toc_window_display": false
  }
 },
 "nbformat": 4,
 "nbformat_minor": 2
}
