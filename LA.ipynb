{
 "cells": [
  {
   "cell_type": "code",
   "execution_count": 97,
   "metadata": {
    "ExecuteTime": {
     "end_time": "2018-01-17T07:24:20.218864Z",
     "start_time": "2018-01-17T07:24:20.212779Z"
    }
   },
   "outputs": [],
   "source": [
    "import numpy as np\n",
    "import sympy as sp\n",
    "from sympy import Matrix\n",
    "import matplotlib.pyplot as plt"
   ]
  },
  {
   "cell_type": "code",
   "execution_count": 141,
   "metadata": {
    "ExecuteTime": {
     "end_time": "2018-01-17T08:01:24.541769Z",
     "start_time": "2018-01-17T08:01:24.516532Z"
    }
   },
   "outputs": [
    {
     "data": {
      "text/plain": [
       "Matrix([\n",
       "[1,  0,   0,    0,     0,      0,    0],\n",
       "[1,  2,   4,    8,    16,     32,  2.9],\n",
       "[1,  4,  16,   64,   256,   1024, 14.8],\n",
       "[1,  6,  36,  216,  1296,   7776, 39.6],\n",
       "[1,  8,  64,  512,  4096,  32768, 74.3],\n",
       "[1, 10, 100, 1000, 10000, 100000,  119]])"
      ]
     },
     "execution_count": 141,
     "metadata": {},
     "output_type": "execute_result"
    }
   ],
   "source": [
    "v = sp.Matrix([0,2,4,6,8,10])\n",
    "f = sp.Matrix([0, 2.90, 14.8, 39.6, 74.3, 119])\n",
    "# use a polynomial function of degree 5\n",
    "vp = np.array(v)\n",
    "am5 = sp.ones(6,1)\n",
    "for i in range(1,6):\n",
    "    am5 = am5.col_insert(i,Matrix(vp**i))\n",
    "am5 = am5.col_insert(6,f)\n",
    "am5"
   ]
  },
  {
   "cell_type": "code",
   "execution_count": 138,
   "metadata": {
    "ExecuteTime": {
     "end_time": "2018-01-17T07:59:27.296678Z",
     "start_time": "2018-01-17T07:59:27.284338Z"
    }
   },
   "outputs": [
    {
     "data": {
      "text/plain": [
       "array([[0],\n",
       "       [1.71250000000001],\n",
       "       [-1.19479166666667],\n",
       "       [0.661458333333335],\n",
       "       [-0.0700520833333336],\n",
       "       [0.00260416666666668]], dtype=object)"
      ]
     },
     "execution_count": 138,
     "metadata": {},
     "output_type": "execute_result"
    }
   ],
   "source": [
    "air_rref = am5.rref()[0]\n",
    "params5 = np.array(air_rref.col(6))\n",
    "params5"
   ]
  },
  {
   "cell_type": "code",
   "execution_count": 103,
   "metadata": {
    "ExecuteTime": {
     "end_time": "2018-01-17T07:29:34.274853Z",
     "start_time": "2018-01-17T07:29:34.264801Z"
    }
   },
   "outputs": [],
   "source": [
    "def air_force(v,params):\n",
    "    length = len(params)\n",
    "    res = 0\n",
    "    for i in range(length):\n",
    "        res += float(params[i]) * v**i\n",
    "    return res"
   ]
  },
  {
   "cell_type": "code",
   "execution_count": 121,
   "metadata": {
    "ExecuteTime": {
     "end_time": "2018-01-17T07:39:23.729015Z",
     "start_time": "2018-01-17T07:39:23.723340Z"
    }
   },
   "outputs": [
    {
     "data": {
      "text/plain": [
       "64.83837890625"
      ]
     },
     "execution_count": 121,
     "metadata": {},
     "output_type": "execute_result"
    }
   ],
   "source": [
    "air_force(7.5,params5)"
   ]
  },
  {
   "cell_type": "code",
   "execution_count": 122,
   "metadata": {
    "ExecuteTime": {
     "end_time": "2018-01-17T07:39:39.973036Z",
     "start_time": "2018-01-17T07:39:39.956265Z"
    }
   },
   "outputs": [
    {
     "data": {
      "text/plain": [
       "Matrix([\n",
       "[1, 0, 0, 0, 0],\n",
       "[0, 1, 0, 0, 0],\n",
       "[0, 0, 1, 0, 0],\n",
       "[0, 0, 0, 1, 0],\n",
       "[0, 0, 0, 0, 1],\n",
       "[0, 0, 0, 0, 0]])"
      ]
     },
     "execution_count": 122,
     "metadata": {},
     "output_type": "execute_result"
    }
   ],
   "source": [
    "#use polynomial function of degree 3 won't get a solution\n",
    "am3 = sp.ones(6,1)\n",
    "for i in range(1,4):\n",
    "    am3 = am3.col_insert(i,Matrix(vp**i))\n",
    "am3 = am3.col_insert(4,f)\n",
    "air_rref = am3.rref()[0]\n",
    "air_rref"
   ]
  },
  {
   "cell_type": "code",
   "execution_count": 123,
   "metadata": {
    "ExecuteTime": {
     "end_time": "2018-01-17T07:39:55.478810Z",
     "start_time": "2018-01-17T07:39:55.190190Z"
    }
   },
   "outputs": [
    {
     "data": {
      "image/png": "[encoded data removed]",
      "text/plain": [
       "<matplotlib.figure.Figure at 0x10d3234e0>"
      ]
     },
     "metadata": {},
     "output_type": "display_data"
    }
   ],
   "source": [
    "# the polynomial function of degree 5\n",
    "x = np.arange(0,15,0.1)\n",
    "y = air_force(x,params5)\n",
    "plt.plot(x,y,'r')\n",
    "\n",
    "# orginal data\n",
    "vp = np.array(v)\n",
    "fp = np.array(f)\n",
    "plt.plot(vp,fp,'.b')\n",
    "\n",
    "plt.show()\n"
   ]
  },
  {
   "cell_type": "code",
   "execution_count": 159,
   "metadata": {
    "ExecuteTime": {
     "end_time": "2018-01-17T08:08:02.500311Z",
     "start_time": "2018-01-17T08:08:02.482091Z"
    }
   },
   "outputs": [],
   "source": [
    "#general case\n",
    "def rref_fit(x,y,degree):\n",
    "    \"\"\"\n",
    "    use rref(reduced row echelon form) to compute the params of polynomial function\n",
    "    to fit given data (x,y)\n",
    "\n",
    "    Inputs:\n",
    "    - x: independent variables, shape ==(D,1)\n",
    "    - y: dependent variables, shape ==(D,1)\n",
    "    - degree: the degree of polynomial function used to fit data\n",
    "\n",
    "    Returns:\n",
    "    - params: the params of polynomial function, shape == (degree+1,1)\n",
    "    \"\"\"\n",
    "    xi = np.array(x)\n",
    "    yi = np.array(y)\n",
    "    D = xi.shape[0] \n",
    "    argumented_matrix = sp.ones(D,1)\n",
    "    for i in range(1,degree+1):\n",
    "        argumented_matrix = argumented_matrix.col_insert(i,Matrix(xi**i))\n",
    "    argumented_matrix = argumented_matrix.col_insert(degree+1,Matrix(yi))\n",
    "    \n",
    "    rref_matrix,pivots = argumented_matrix.rref()\n",
    "    return np.array(rref_matrix.col(-1)).reshape(-1,)"
   ]
  },
  {
   "cell_type": "code",
   "execution_count": 161,
   "metadata": {
    "ExecuteTime": {
     "end_time": "2018-01-17T08:08:26.754248Z",
     "start_time": "2018-01-17T08:08:26.739114Z"
    }
   },
   "outputs": [
    {
     "data": {
      "text/plain": [
       "array([0, 1.71250000000001, -1.19479166666667, 0.661458333333335,\n",
       "       -0.0700520833333336, 0.00260416666666668], dtype=object)"
      ]
     },
     "execution_count": 161,
     "metadata": {},
     "output_type": "execute_result"
    }
   ],
   "source": [
    "rref_fit(v,f,5)"
   ]
  },
  {
   "cell_type": "code",
   "execution_count": 182,
   "metadata": {
    "ExecuteTime": {
     "end_time": "2018-01-17T08:39:46.144747Z",
     "start_time": "2018-01-17T08:39:45.815594Z"
    }
   },
   "outputs": [
    {
     "data": {
      "image/png": "[encoded data removed]",
      "text/plain": [
       "<matplotlib.figure.Figure at 0x10d061978>"
      ]
     },
     "metadata": {},
     "output_type": "display_data"
    }
   ],
   "source": [
    "x = np.arange(0,15,0.1)\n",
    "degrees = [4,5,6,7]\n",
    "\n",
    "v = sp.Matrix([0,2,4,6,8,10])\n",
    "f = sp.Matrix([0, 2.90, 14.8, 39.6, 74.3, 119])\n",
    "\n",
    "fig, ax = plt.subplots()\n",
    "for degree in degrees:\n",
    "    params = rref_fit(v,f,degree)\n",
    "    y = air_force(x,params)\n",
    "    ax.plot(x, y, label=\"degree: {}\".format(degree))\n",
    "\n",
    "vp = np.array(v)\n",
    "fp = np.array(f)\n",
    "ax.plot(vp,fp,'.b',label=\"original\")\n",
    "\n",
    "legend = ax.legend(loc='upper left', fontsize='x-large')\n",
    "# Put a nicer background color on the legend.\n",
    "# legend.get_frame().set_facecolor('#00FFCC')\n",
    "plt.ylim(0,200)\n",
    "plt.show()"
   ]
  },
  {
   "cell_type": "code",
   "execution_count": null,
   "metadata": {},
   "outputs": [],
   "source": []
  }
 ],
 "metadata": {
  "kernelspec": {
   "display_name": "Python 3",
   "language": "python",
   "name": "python3"
  },
  "language_info": {
   "codemirror_mode": {
    "name": "ipython",
    "version": 3
   },
   "file_extension": ".py",
   "mimetype": "text/x-python",
   "name": "python",
   "nbconvert_exporter": "python",
   "pygments_lexer": "ipython3",
   "version": "3.6.0"
  },
  "toc": {
   "nav_menu": {},
   "number_sections": true,
   "sideBar": true,
   "skip_h1_title": false,
   "title_cell": "Table of Contents",
   "title_sidebar": "Contents",
   "toc_cell": false,
   "toc_position": {},
   "toc_section_display": true,
   "toc_window_display": false
  }
 },
 "nbformat": 4,
 "nbformat_minor": 2
}
