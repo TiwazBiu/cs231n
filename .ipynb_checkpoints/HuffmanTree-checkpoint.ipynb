{
 "cells": [
  {
   "cell_type": "code",
   "execution_count": 240,
   "metadata": {
    "ExecuteTime": {
     "end_time": "2018-01-18T06:48:53.696480Z",
     "start_time": "2018-01-18T06:48:53.680508Z"
    }
   },
   "outputs": [],
   "source": [
    "from queue import PriorityQueue\n",
    "class StablePriorityQueue(PriorityQueue):\n",
    "    def __init__(self):\n",
    "        PriorityQueue.__init__(self)\n",
    "        self.counter = 0\n",
    "    def put(self,item,priority=0):\n",
    "        PriorityQueue.put(self, (priority,self.counter,item))\n",
    "        self.counter += 1\n",
    "    def get(self, *args, **kwargs):\n",
    "        _, _, item = PriorityQueue.get(self, *args, **kwargs)\n",
    "        return item\n",
    "    \n"
   ]
  },
  {
   "cell_type": "code",
   "execution_count": 235,
   "metadata": {
    "ExecuteTime": {
     "end_time": "2018-01-18T06:46:13.671429Z",
     "start_time": "2018-01-18T06:46:13.529214Z"
    }
   },
   "outputs": [
    {
     "name": "stdout",
     "output_type": "stream",
     "text": [
      "e  12.70 100\n",
      "t   9.06 000\n",
      "a   8.17 1110\n",
      "o   7.51 1101\n",
      "i   6.97 1011\n",
      "n   6.75 1010\n",
      "s   6.33 0111\n",
      "h   6.09 0110\n",
      "r   5.99 0101\n",
      "d   4.25 11111\n",
      "l   4.03 11110\n",
      "c   2.78 01001\n",
      "u   2.76 01000\n",
      "m   2.41 00111\n",
      "w   2.37 00110\n",
      "f   2.23 00100\n",
      "g   2.02 110011\n",
      "y   1.97 110010\n",
      "p   1.93 110001\n",
      "b   1.49 110000\n",
      "v   1.04 001010\n",
      "k   0.75 0010111\n",
      "j   0.15 001011011\n",
      "x   0.15 001011010\n",
      "q   0.10 001011001\n",
      "z   0.07 001011000\n"
     ]
    }
   ],
   "source": [
    "class HuffmanNode(object):\n",
    "    def __init__(self, left=None, right=None, root=None):\n",
    "        self.left=left\n",
    "        self.right=right\n",
    "        self.root=root\n",
    "    def __lt__(self,other):\n",
    "        return 0\n",
    "    def children(self):\n",
    "        return (self.left,self.right)\n",
    "\n",
    "def CreateHuffmanTree(frequencies):\n",
    "    \"\"\"\"\n",
    "    inputs:\n",
    "    - frequencies: a list of tuple, the first element of tuple should be probability\n",
    "    Returns:\n",
    "    - a HuffmanTree\n",
    "    \"\"\"\n",
    "    \n",
    "    p = PriorityQueue()\n",
    "    for value in frequencies:\n",
    "        p.put(value)\n",
    "    while p.qsize() > 1:\n",
    "        l, r = p.get(), p.get()\n",
    "        node = HuffmanNode(l,r)\n",
    "        value = (l[0]+r[0],node)\n",
    "        p.put(value)\n",
    "    return p.get()\n",
    "\n",
    "\n",
    "freq = [\n",
    "    (8.167, 'a'), (1.492, 'b'), (2.782, 'c'), (4.253, 'd'),\n",
    "    (12.702, 'e'),(2.228, 'f'), (2.015, 'g'), (6.094, 'h'),\n",
    "    (6.966, 'i'), (0.153, 'j'), (0.747, 'k'), (4.025, 'l'),\n",
    "    (2.406, 'm'), (6.749, 'n'), (7.507, 'o'), (1.929, 'p'), \n",
    "    (0.095, 'q'), (5.987, 'r'), (6.327, 's'), (9.056, 't'), \n",
    "    (2.758, 'u'), (1.037, 'v'), (2.365, 'w'), (0.150, 'x'),\n",
    "    (1.974, 'y'), (0.074, 'z') ]\n",
    "\n",
    "huffmantree = CreateHuffmanTree(freq)\n",
    "\n",
    "def walk_tree(node,prefix=\"\",code={}):\n",
    "    if isinstance(node[1].left[1], HuffmanNode):\n",
    "        walk_tree(node[1].left,prefix+\"0\", code)\n",
    "    else:\n",
    "        code[node[1].left[1]]=prefix+\"0\"\n",
    "    if isinstance(node[1].right[1],HuffmanNode):\n",
    "        walk_tree(node[1].right,prefix+\"1\", code)\n",
    "    else:\n",
    "        code[node[1].right[1]]=prefix+\"1\"\n",
    "    return code\n",
    "\n",
    "code = walk_tree(huffmantree)\n",
    "for i in sorted(freq, reverse=True):\n",
    "    print(i[1], '{:6.2f}'.format(i[0]), code[i[1]])"
   ]
  },
  {
   "cell_type": "code",
   "execution_count": 212,
   "metadata": {
    "ExecuteTime": {
     "end_time": "2018-01-18T06:38:21.887321Z",
     "start_time": "2018-01-18T06:38:21.847756Z"
    }
   },
   "outputs": [],
   "source": [
    "import itertools\n",
    "pq = []                         # list of entries arranged in a heap\n",
    "entry_finder = {}               # mapping of tasks to entries\n",
    "REMOVED = '<removed-task>'      # placeholder for a removed task\n",
    "counter = itertools.count()     # unique sequence count\n",
    "\n",
    "def add_task(task, priority=0):\n",
    "    'Add a new task or update the priority of an existing task'\n",
    "    if task in entry_finder:\n",
    "        remove_task(task)\n",
    "    count = next(counter)\n",
    "    entry = [priority, count, task]\n",
    "    entry_finder[task] = entry\n",
    "    heappush(pq, entry)\n",
    "\n",
    "def remove_task(task):\n",
    "    'Mark an existing task as REMOVED.  Raise KeyError if not found.'\n",
    "    entry = entry_finder.pop(task)\n",
    "    entry[-1] = REMOVED\n",
    "\n",
    "def pop_task():\n",
    "    'Remove and return the lowest priority task. Raise KeyError if empty.'\n",
    "    while pq:\n",
    "        priority, count, task = heappop(pq)\n",
    "        if task is not REMOVED:\n",
    "            del entry_finder[task]\n",
    "            return task\n",
    "    raise KeyError('pop from an empty priority queue')\n",
    "    \n"
   ]
  },
  {
   "cell_type": "code",
   "execution_count": 225,
   "metadata": {
    "ExecuteTime": {
     "end_time": "2018-01-18T06:42:11.426990Z",
     "start_time": "2018-01-18T06:42:11.378666Z"
    }
   },
   "outputs": [],
   "source": [
    "import operator\n",
    "from functools import reduce\n",
    "import itertools as it\n",
    "\n",
    "a = (1/4,'A')\n",
    "b = (3/4,'B')\n",
    "\n",
    "def C(n,k):\n",
    "    return reduce(operator.mul,range(n-k+1,n+1))/reduce(operator.mul,range(1,k+1))\n",
    "\n",
    "def label_count(container,label):\n",
    "    count = 0\n",
    "    for i in list(container):\n",
    "        if label == i:\n",
    "            count += 1\n",
    "    return count\n",
    "\n",
    "\n",
    "def n_extention(a1,a2,n):\n",
    "    freqs = []\n",
    "    s = a1[1]+a2[1]\n",
    "    labels = list(it.product(s,repeat=n))\n",
    "    freq_i = {}\n",
    "    for label in labels:\n",
    "        i = label_count(label, a1[1])\n",
    "        if not freq_i.get(i): \n",
    "            freq = a1[0]**i * a2[0]**(n-i)\n",
    "            freq_i[i] = freq\n",
    "        freqs.append((freq,label))\n",
    "    return freqs"
   ]
  },
  {
   "cell_type": "code",
   "execution_count": 237,
   "metadata": {
    "ExecuteTime": {
     "end_time": "2018-01-18T06:46:27.440785Z",
     "start_time": "2018-01-18T06:46:27.363496Z"
    }
   },
   "outputs": [
    {
     "name": "stdout",
     "output_type": "stream",
     "text": [
      "('B', 'B', 'B', 'B') 0.3164 01\n",
      "('B', 'B', 'B', 'A') 0.1055 1101\n",
      "('B', 'B', 'A', 'B') 0.1055 1100\n",
      "('B', 'B', 'A', 'A') 0.1055 1011\n",
      "('B', 'A', 'B', 'B') 0.1055 1010\n",
      "('B', 'A', 'B', 'A') 0.1055 001\n",
      "('B', 'A', 'A', 'B') 0.1055 000\n",
      "('B', 'A', 'A', 'A') 0.1055 1111\n",
      "('A', 'B', 'B', 'B') 0.1055 1110\n",
      "('A', 'B', 'B', 'A') 0.0352 10010\n",
      "('A', 'B', 'A', 'B') 0.0352 10001\n",
      "('A', 'B', 'A', 'A') 0.0352 10000\n",
      "('A', 'A', 'B', 'B') 0.0352 100111\n",
      "('A', 'A', 'B', 'A') 0.0117 1001100\n",
      "('A', 'A', 'A', 'B') 0.0117 10011011\n",
      "('A', 'A', 'A', 'A') 0.0039 10011010\n",
      "0.86967823249\n"
     ]
    }
   ],
   "source": [
    "import numpy as np\n",
    "\n",
    "a = (1/4,'A')\n",
    "b = (3/4,'B')\n",
    "\n",
    "\n",
    "freqs = n_extention(a, b, 4)\n",
    "huff = CreateHuffmanTree(freqs)\n",
    "code = walk_tree(huff,code={})\n",
    "\n",
    "codes_freq = {}\n",
    "for i in sorted(freqs, reverse=True):\n",
    "    print(i[1], '{:6.4f}'.format(i[0]), code[i[1]])\n",
    "    codes_freq[code[i[1]]] = i[0]\n",
    "\n",
    "freq_only = list(map(lambda freq: freq[0],freqs))\n",
    "freq_only = np.array(freq_only)\n",
    "\n",
    "def entropy(freqs):\n",
    "    return np.sum(-freqs*np.log2(freqs))\n",
    "\n",
    "en = entropy(freq_only)\n",
    "\n",
    "def average_length(codes_freq):\n",
    "    res = 0\n",
    "    for code,freq in codes_freq.items():\n",
    "        res += len(code)*freq\n",
    "    return res\n",
    "\n",
    "avg = average_length(codes_freq)\n",
    "\n",
    "eta = en/avg\n",
    "print(eta)"
   ]
  },
  {
   "cell_type": "code",
   "execution_count": 236,
   "metadata": {
    "ExecuteTime": {
     "end_time": "2018-01-18T06:46:18.330135Z",
     "start_time": "2018-01-18T06:46:18.296521Z"
    }
   },
   "outputs": [
    {
     "ename": "TypeError",
     "evalue": "'<' not supported between instances of 'tuple' and 'HuffmanNode'",
     "output_type": "error",
     "traceback": [
      "\u001b[0;31m---------------------------------------------------------------------------\u001b[0m",
      "\u001b[0;31mTypeError\u001b[0m                                 Traceback (most recent call last)",
      "\u001b[0;32m<ipython-input-236-9ca7ec50dc7b>\u001b[0m in \u001b[0;36m<module>\u001b[0;34m()\u001b[0m\n\u001b[1;32m      2\u001b[0m \u001b[0;32mfor\u001b[0m \u001b[0mn\u001b[0m \u001b[0;32min\u001b[0m \u001b[0mrange\u001b[0m\u001b[0;34m(\u001b[0m\u001b[0;36m1\u001b[0m\u001b[0;34m,\u001b[0m\u001b[0;36m10\u001b[0m\u001b[0;34m)\u001b[0m\u001b[0;34m:\u001b[0m\u001b[0;34m\u001b[0m\u001b[0m\n\u001b[1;32m      3\u001b[0m     \u001b[0mfreqs\u001b[0m \u001b[0;34m=\u001b[0m \u001b[0mn_extention\u001b[0m\u001b[0;34m(\u001b[0m\u001b[0ma\u001b[0m\u001b[0;34m,\u001b[0m \u001b[0mb\u001b[0m\u001b[0;34m,\u001b[0m \u001b[0mn\u001b[0m\u001b[0;34m)\u001b[0m\u001b[0;34m\u001b[0m\u001b[0m\n\u001b[0;32m----> 4\u001b[0;31m     \u001b[0mhuff\u001b[0m \u001b[0;34m=\u001b[0m \u001b[0mCreateHuffmanTree\u001b[0m\u001b[0;34m(\u001b[0m\u001b[0mfreqs\u001b[0m\u001b[0;34m)\u001b[0m\u001b[0;34m\u001b[0m\u001b[0m\n\u001b[0m\u001b[1;32m      5\u001b[0m     \u001b[0mcode\u001b[0m \u001b[0;34m=\u001b[0m \u001b[0mwalk_tree\u001b[0m\u001b[0;34m(\u001b[0m\u001b[0mhuff\u001b[0m\u001b[0;34m,\u001b[0m\u001b[0mcode\u001b[0m\u001b[0;34m=\u001b[0m\u001b[0;34m{\u001b[0m\u001b[0;34m}\u001b[0m\u001b[0;34m)\u001b[0m\u001b[0;34m\u001b[0m\u001b[0m\n\u001b[1;32m      6\u001b[0m     \u001b[0mfreq_only\u001b[0m \u001b[0;34m=\u001b[0m \u001b[0mnp\u001b[0m\u001b[0;34m.\u001b[0m\u001b[0marray\u001b[0m\u001b[0;34m(\u001b[0m\u001b[0mlist\u001b[0m\u001b[0;34m(\u001b[0m\u001b[0mmap\u001b[0m\u001b[0;34m(\u001b[0m\u001b[0;32mlambda\u001b[0m \u001b[0mfreq\u001b[0m\u001b[0;34m:\u001b[0m \u001b[0mfreq\u001b[0m\u001b[0;34m[\u001b[0m\u001b[0;36m0\u001b[0m\u001b[0;34m]\u001b[0m\u001b[0;34m,\u001b[0m\u001b[0mfreqs\u001b[0m\u001b[0;34m)\u001b[0m\u001b[0;34m)\u001b[0m\u001b[0;34m)\u001b[0m\u001b[0;34m\u001b[0m\u001b[0m\n",
      "\u001b[0;32m<ipython-input-235-7a8186e35d96>\u001b[0m in \u001b[0;36mCreateHuffmanTree\u001b[0;34m(frequencies)\u001b[0m\n\u001b[1;32m     21\u001b[0m         \u001b[0mp\u001b[0m\u001b[0;34m.\u001b[0m\u001b[0mput\u001b[0m\u001b[0;34m(\u001b[0m\u001b[0mvalue\u001b[0m\u001b[0;34m)\u001b[0m\u001b[0;34m\u001b[0m\u001b[0m\n\u001b[1;32m     22\u001b[0m     \u001b[0;32mwhile\u001b[0m \u001b[0mp\u001b[0m\u001b[0;34m.\u001b[0m\u001b[0mqsize\u001b[0m\u001b[0;34m(\u001b[0m\u001b[0;34m)\u001b[0m \u001b[0;34m>\u001b[0m \u001b[0;36m1\u001b[0m\u001b[0;34m:\u001b[0m\u001b[0;34m\u001b[0m\u001b[0m\n\u001b[0;32m---> 23\u001b[0;31m         \u001b[0ml\u001b[0m\u001b[0;34m,\u001b[0m \u001b[0mr\u001b[0m \u001b[0;34m=\u001b[0m \u001b[0mp\u001b[0m\u001b[0;34m.\u001b[0m\u001b[0mget\u001b[0m\u001b[0;34m(\u001b[0m\u001b[0;34m)\u001b[0m\u001b[0;34m,\u001b[0m \u001b[0mp\u001b[0m\u001b[0;34m.\u001b[0m\u001b[0mget\u001b[0m\u001b[0;34m(\u001b[0m\u001b[0;34m)\u001b[0m\u001b[0;34m\u001b[0m\u001b[0m\n\u001b[0m\u001b[1;32m     24\u001b[0m         \u001b[0mnode\u001b[0m \u001b[0;34m=\u001b[0m \u001b[0mHuffmanNode\u001b[0m\u001b[0;34m(\u001b[0m\u001b[0ml\u001b[0m\u001b[0;34m,\u001b[0m\u001b[0mr\u001b[0m\u001b[0;34m)\u001b[0m\u001b[0;34m\u001b[0m\u001b[0m\n\u001b[1;32m     25\u001b[0m         \u001b[0mvalue\u001b[0m \u001b[0;34m=\u001b[0m \u001b[0;34m(\u001b[0m\u001b[0ml\u001b[0m\u001b[0;34m[\u001b[0m\u001b[0;36m0\u001b[0m\u001b[0;34m]\u001b[0m\u001b[0;34m+\u001b[0m\u001b[0mr\u001b[0m\u001b[0;34m[\u001b[0m\u001b[0;36m0\u001b[0m\u001b[0;34m]\u001b[0m\u001b[0;34m,\u001b[0m\u001b[0mnode\u001b[0m\u001b[0;34m)\u001b[0m\u001b[0;34m\u001b[0m\u001b[0m\n",
      "\u001b[0;32m/usr/local/Cellar/python3/3.6.0/Frameworks/Python.framework/Versions/3.6/lib/python3.6/queue.py\u001b[0m in \u001b[0;36mget\u001b[0;34m(self, block, timeout)\u001b[0m\n\u001b[1;32m    172\u001b[0m                         \u001b[0;32mraise\u001b[0m \u001b[0mEmpty\u001b[0m\u001b[0;34m\u001b[0m\u001b[0m\n\u001b[1;32m    173\u001b[0m                     \u001b[0mself\u001b[0m\u001b[0;34m.\u001b[0m\u001b[0mnot_empty\u001b[0m\u001b[0;34m.\u001b[0m\u001b[0mwait\u001b[0m\u001b[0;34m(\u001b[0m\u001b[0mremaining\u001b[0m\u001b[0;34m)\u001b[0m\u001b[0;34m\u001b[0m\u001b[0m\n\u001b[0;32m--> 174\u001b[0;31m             \u001b[0mitem\u001b[0m \u001b[0;34m=\u001b[0m \u001b[0mself\u001b[0m\u001b[0;34m.\u001b[0m\u001b[0m_get\u001b[0m\u001b[0;34m(\u001b[0m\u001b[0;34m)\u001b[0m\u001b[0;34m\u001b[0m\u001b[0m\n\u001b[0m\u001b[1;32m    175\u001b[0m             \u001b[0mself\u001b[0m\u001b[0;34m.\u001b[0m\u001b[0mnot_full\u001b[0m\u001b[0;34m.\u001b[0m\u001b[0mnotify\u001b[0m\u001b[0;34m(\u001b[0m\u001b[0;34m)\u001b[0m\u001b[0;34m\u001b[0m\u001b[0m\n\u001b[1;32m    176\u001b[0m             \u001b[0;32mreturn\u001b[0m \u001b[0mitem\u001b[0m\u001b[0;34m\u001b[0m\u001b[0m\n",
      "\u001b[0;32m/usr/local/Cellar/python3/3.6.0/Frameworks/Python.framework/Versions/3.6/lib/python3.6/queue.py\u001b[0m in \u001b[0;36m_get\u001b[0;34m(self)\u001b[0m\n\u001b[1;32m    228\u001b[0m \u001b[0;34m\u001b[0m\u001b[0m\n\u001b[1;32m    229\u001b[0m     \u001b[0;32mdef\u001b[0m \u001b[0m_get\u001b[0m\u001b[0;34m(\u001b[0m\u001b[0mself\u001b[0m\u001b[0;34m)\u001b[0m\u001b[0;34m:\u001b[0m\u001b[0;34m\u001b[0m\u001b[0m\n\u001b[0;32m--> 230\u001b[0;31m         \u001b[0;32mreturn\u001b[0m \u001b[0mheappop\u001b[0m\u001b[0;34m(\u001b[0m\u001b[0mself\u001b[0m\u001b[0;34m.\u001b[0m\u001b[0mqueue\u001b[0m\u001b[0;34m)\u001b[0m\u001b[0;34m\u001b[0m\u001b[0m\n\u001b[0m\u001b[1;32m    231\u001b[0m \u001b[0;34m\u001b[0m\u001b[0m\n\u001b[1;32m    232\u001b[0m \u001b[0;34m\u001b[0m\u001b[0m\n",
      "\u001b[0;31mTypeError\u001b[0m: '<' not supported between instances of 'tuple' and 'HuffmanNode'"
     ]
    }
   ],
   "source": [
    "etas = {}\n",
    "for n in range(1,10):\n",
    "    freqs = n_extention(a, b, n)\n",
    "    huff = CreateHuffmanTree(freqs)\n",
    "    code = walk_tree(huff,code={})\n",
    "    freq_only = np.array(list(map(lambda freq: freq[0],freqs)))\n",
    "    codes_freq = {}\n",
    "    for i in sorted(freqs, reverse=True):\n",
    "        codes_freq[code[i[1]]] = i[0]\n",
    "    eta = entropy(freq_only)/average_length(codes_freq)\n",
    "    etas[n] = eta"
   ]
  },
  {
   "cell_type": "code",
   "execution_count": 239,
   "metadata": {
    "ExecuteTime": {
     "end_time": "2018-01-18T06:48:16.176058Z",
     "start_time": "2018-01-18T06:48:15.975128Z"
    }
   },
   "outputs": [
    {
     "data": {
      "image/png": "[encoded data removed]",
      "text/plain": [
       "<matplotlib.figure.Figure at 0x10f5da470>"
      ]
     },
     "metadata": {},
     "output_type": "display_data"
    }
   ],
   "source": [
    "from matplotlib import pyplot as plt\n",
    "x = []\n",
    "y = []\n",
    "for n,eta in etas.items():\n",
    "    x.append(n)\n",
    "    y.append(eta)\n",
    "\n",
    "plt.plot(x,y)\n",
    "plt.show()"
   ]
  },
  {
   "cell_type": "code",
   "execution_count": null,
   "metadata": {},
   "outputs": [],
   "source": []
  }
 ],
 "metadata": {
  "kernelspec": {
   "display_name": "Python 3",
   "language": "python",
   "name": "python3"
  },
  "language_info": {
   "codemirror_mode": {
    "name": "ipython",
    "version": 3
   },
   "file_extension": ".py",
   "mimetype": "text/x-python",
   "name": "python",
   "nbconvert_exporter": "python",
   "pygments_lexer": "ipython3",
   "version": "3.6.0"
  },
  "toc": {
   "nav_menu": {},
   "number_sections": true,
   "sideBar": true,
   "skip_h1_title": false,
   "title_cell": "Table of Contents",
   "title_sidebar": "Contents",
   "toc_cell": false,
   "toc_position": {},
   "toc_section_display": true,
   "toc_window_display": false
  }
 },
 "nbformat": 4,
 "nbformat_minor": 2
}
